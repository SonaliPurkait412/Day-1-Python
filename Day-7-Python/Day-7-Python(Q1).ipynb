{
 "cells": [
  {
   "cell_type": "code",
   "execution_count": 1,
   "metadata": {},
   "outputs": [
    {
     "name": "stdout",
     "output_type": "stream",
     "text": [
      "2 3 4 5 6\n",
      "[2, 3, 4, 5, 6]\n",
      "Enter the number of elements you want to change: 5\n",
      "Enter the element: 12\n",
      "Enter the element: 13\n",
      "Enter the element: 14\n",
      "Enter the element: 15\n",
      "Enter the element: 16\n",
      "New list:  [12, 13, 14, 15, 16]\n"
     ]
    }
   ],
   "source": [
    "# Q1.Create a python module with list and import the module in another .py file and change the value in list\n",
    "\n",
    "import change_list\n",
    "\n",
    "change_list.change_list()"
   ]
  },
  {
   "cell_type": "code",
   "execution_count": null,
   "metadata": {},
   "outputs": [],
   "source": []
  }
 ],
 "metadata": {
  "kernelspec": {
   "display_name": "Python 3",
   "language": "python",
   "name": "python3"
  },
  "language_info": {
   "codemirror_mode": {
    "name": "ipython",
    "version": 3
   },
   "file_extension": ".py",
   "mimetype": "text/x-python",
   "name": "python",
   "nbconvert_exporter": "python",
   "pygments_lexer": "ipython3",
   "version": "3.7.6"
  }
 },
 "nbformat": 4,
 "nbformat_minor": 4
}
