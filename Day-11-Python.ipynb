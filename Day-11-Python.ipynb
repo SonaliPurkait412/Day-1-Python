{
 "cells": [
  {
   "cell_type": "code",
   "execution_count": 3,
   "metadata": {},
   "outputs": [
    {
     "name": "stdout",
     "output_type": "stream",
     "text": [
      "2 3 4 5\n",
      "12 13 14 15\n",
      "[(2, 12), (3, 13), (4, 14), (5, 15)]\n"
     ]
    }
   ],
   "source": [
    "# Q1. Write a program using zip() function and list() function, create a merged list of tuples from the two lists given.\n",
    "\n",
    "a = [int(x) for x in input().split()]\n",
    "b = [int(x) for x in input().split()]\n",
    "print(list(zip(a,b)))"
   ]
  },
  {
   "cell_type": "code",
   "execution_count": 7,
   "metadata": {},
   "outputs": [
    {
     "name": "stdout",
     "output_type": "stream",
     "text": [
      "2 3 4 5 6 7 8 9\n",
      "[(2, 1), (3, 2), (4, 3), (5, 4), (6, 5), (7, 6), (8, 7)]\n"
     ]
    }
   ],
   "source": [
    "# Q2. First create a range from 1 to 8. Then using zip, merge the given list and the range together to create a new list of tuples.\n",
    "\n",
    "rng1 = list(range(1,8))\n",
    "lst1= [int(x) for x in input().split()]\n",
    "lst = list(zip(lst1, rng1))\n",
    "print(lst)"
   ]
  },
  {
   "cell_type": "code",
   "execution_count": 8,
   "metadata": {},
   "outputs": [
    {
     "name": "stdout",
     "output_type": "stream",
     "text": [
      "13 2 1 28 19 25\n",
      "Sorted list is:  [1, 2, 13, 19, 25, 28]\n"
     ]
    }
   ],
   "source": [
    "# Q3. Using sorted() function, sort the list in ascending order.\n",
    "\n",
    "l=[int(x) for x in input().split()]\n",
    "print(\"Sorted list is: \",sorted(l))"
   ]
  },
  {
   "cell_type": "code",
   "execution_count": 9,
   "metadata": {},
   "outputs": [
    {
     "name": "stdout",
     "output_type": "stream",
     "text": [
      "1 2 3 4 5 6 7 8 9\n",
      "Filtered list is as follows:  [1, 3, 5, 7, 9]\n"
     ]
    }
   ],
   "source": [
    "# Q4. Write a program using filter function, filter the even numbers so that only odd numbers are passed to the new list.\n",
    "\n",
    "numbers = [int(x) for x in input().split()]\n",
    "\n",
    "def filterEvenNum(in_num):\n",
    "\n",
    "    if(in_num % 2) != 0:\n",
    "        return True\n",
    "    else:\n",
    "        return False\n",
    "\n",
    "out_filter = filter(filterEvenNum, numbers)\n",
    "\n",
    "print(\"Filtered list is as follows: \", list(out_filter))"
   ]
  }
 ],
 "metadata": {
  "kernelspec": {
   "display_name": "Python 3",
   "language": "python",
   "name": "python3"
  },
  "language_info": {
   "codemirror_mode": {
    "name": "ipython",
    "version": 3
   },
   "file_extension": ".py",
   "mimetype": "text/x-python",
   "name": "python",
   "nbconvert_exporter": "python",
   "pygments_lexer": "ipython3",
   "version": "3.7.6"
  }
 },
 "nbformat": 4,
 "nbformat_minor": 4
}
