{
 "cells": [
  {
   "cell_type": "code",
   "execution_count": 2,
   "metadata": {},
   "outputs": [
    {
     "name": "stdout",
     "output_type": "stream",
     "text": [
      "Enter the number of values for first dictionary:7\n",
      "Enter the key: a\n",
      "Enter the value: 1\n",
      "Enter the key: b\n",
      "Enter the value: 2\n",
      "Enter the key: c\n",
      "Enter the value: 3\n",
      "Enter the key: d\n",
      "Enter the value: 4\n",
      "Enter the key: e\n",
      "Enter the value: 5\n",
      "Enter the key: f\n",
      "Enter the value: 6\n",
      "Enter the key: g\n",
      "Enter the value: 7\n",
      "{'a': 1, 'b': 2, 'c': 3, 'd': 4, 'e': 5, 'f': 6, 'g': 7}\n",
      "Enter the key you want to delete: e\n",
      "\n",
      "Updated dictionary:  {'a': 1, 'b': 2, 'c': 3, 'd': 4, 'f': 6, 'g': 7}\n"
     ]
    }
   ],
   "source": [
    "# Q2. Write a Python program to remove a key from a dictionary\n",
    "n = int(input(\"Enter the number of values for first dictionary:\"))\n",
    "d = {}\n",
    "\n",
    "for i in range(n):\n",
    "    keys = input(\"Enter the key: \") \n",
    "    values = int(input(\"Enter the value: \"))\n",
    "    d[keys] = values\n",
    "print(d)\n",
    "\n",
    "c=input(\"Enter the key you want to delete: \")\n",
    "if c in d: \n",
    "    del d[c]\n",
    "else:\n",
    "    print(\"Key not found!\")\n",
    "    exit(0)\n",
    "print(\"\\nUpdated dictionary: \",d)"
   ]
  }
 ],
 "metadata": {
  "kernelspec": {
   "display_name": "Python 3",
   "language": "python",
   "name": "python3"
  },
  "language_info": {
   "codemirror_mode": {
    "name": "ipython",
    "version": 3
   },
   "file_extension": ".py",
   "mimetype": "text/x-python",
   "name": "python",
   "nbconvert_exporter": "python",
   "pygments_lexer": "ipython3",
   "version": "3.7.6"
  }
 },
 "nbformat": 4,
 "nbformat_minor": 4
}
