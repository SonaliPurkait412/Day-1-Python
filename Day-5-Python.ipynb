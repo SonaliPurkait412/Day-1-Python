{
 "cells": [
  {
   "cell_type": "code",
   "execution_count": 3,
   "metadata": {},
   "outputs": [
    {
     "name": "stdout",
     "output_type": "stream",
     "text": [
      "Enter first number: 1\n",
      "Enter second number: 2\n",
      "Enter your choice:\n",
      "1.Add\n",
      "2.Subtract\n",
      "3.Division\n",
      "4.Multiply\n",
      "1\n",
      "Addition of number:  3\n"
     ]
    }
   ],
   "source": [
    "# 1)Create a function getting two integer inputs from user. & print the following:\n",
    "\n",
    "##   Addition of two numbers is +value\n",
    "##   Subtraction of two numbers is +value\n",
    "##   Division of two numbers is +value\n",
    "##   Multiplication of two numbers is +value\n",
    "\n",
    "##  Here the value represents math function associated\n",
    "\n",
    "\n",
    "def main():\n",
    "    x=int(input(\"Enter first number: \"))\n",
    "    y=int(input(\"Enter second number: \"))\n",
    "    a=int(input(\"Enter your choice:\\n1.Add\\n2.Subtract\\n3.Division\\n4.Multiply\\n\"))\n",
    "    if a==1:\n",
    "        c=x+y\n",
    "        print(\"Addition of number: \",c)\n",
    "    elif a==2:\n",
    "        if x>y:\n",
    "            d=x-y\n",
    "            print(\"Subtraction of numbers: \",d)\n",
    "        else:\n",
    "            e=y-x\n",
    "            print(\"Subtraction of numbers: \",e)\n",
    "    elif a==3:\n",
    "        f=x/y\n",
    "        print(\"Division of numbers: \",f)\n",
    "    elif a==4:\n",
    "        g=x*y\n",
    "        print(\"Multiplication of numbers: \",g)\n",
    "    else:\n",
    "        print(\"Invalid choice\")\n",
    "\n",
    "if __name__ == '__main__':\n",
    "    main()"
   ]
  },
  {
   "cell_type": "code",
   "execution_count": 11,
   "metadata": {},
   "outputs": [
    {
     "name": "stdout",
     "output_type": "stream",
     "text": [
      "Enter first number: 1\n",
      "Enter second number: 2\n",
      "-------------------Addition----------------------------\n",
      "Addition of number:  3\n",
      "-------------------Subtraction----------------------------\n",
      "Subtraction of numbers:  1\n",
      "-------------------Division----------------------------\n",
      "Division of numbers:  0.5\n",
      "-------------------Multiplication----------------------------\n",
      "Multiplication of numbers:  2\n"
     ]
    }
   ],
   "source": [
    "# 1)Create a function getting two integer inputs from user. & print the following:\n",
    "\n",
    "##   Addition of two numbers is +value\n",
    "##   Subtraction of two numbers is +value\n",
    "##   Division of two numbers is +value\n",
    "##   Multiplication of two numbers is +value\n",
    "\n",
    "##  Here the value represents math function associated\n",
    "\n",
    "\n",
    "def main():\n",
    "    x=int(input(\"Enter first number: \"))\n",
    "    y=int(input(\"Enter second number: \"))\n",
    "    print(\"-------------------Addition----------------------------\")\n",
    "    c=x+y\n",
    "    print(\"Addition of number: \",c)\n",
    "    print(\"-------------------Subtraction----------------------------\")\n",
    "    if x>y:\n",
    "        d=x-y\n",
    "        print(\"Subtraction of numbers: \",d)\n",
    "    else:\n",
    "        e=y-x\n",
    "        print(\"Subtraction of numbers: \",e)\n",
    "    print(\"-------------------Division----------------------------\")\n",
    "    f=x/y\n",
    "    print(\"Division of numbers: \",f)\n",
    "    print(\"-------------------Multiplication----------------------------\")\n",
    "    g=x*y\n",
    "    print(\"Multiplication of numbers: \",g)\n",
    "\n",
    "if __name__ == '__main__':\n",
    "    main()"
   ]
  },
  {
   "cell_type": "code",
   "execution_count": 10,
   "metadata": {},
   "outputs": [
    {
     "name": "stdout",
     "output_type": "stream",
     "text": [
      "Enter the patients name: Arya\n",
      "Enter the temperature:35\n",
      "Without default value\n",
      "The patient name is Arya with body temperature  35.0\n",
      "With default value\n",
      "The patient name is Arya with body temperature  98\n"
     ]
    }
   ],
   "source": [
    "# 2) Create a function covid() and  it should accept patient name, and body temperature, by default the body temperature \n",
    "#    should be 98 degree\n",
    "\n",
    "def covid(nam,temp=98):\n",
    "    print(\"The patient name is\",nam,\"with body temperature \",temp)\n",
    "\n",
    "if __name__ == '__main__':\n",
    "    nam=input(\"Enter the patients name: \")\n",
    "    temp=float(input(\"Enter the temperature:\"))\n",
    "    print(\"Without default value\")\n",
    "    covid(nam,temp)\n",
    "    print(\"With default value\")\n",
    "    covid(nam,)"
   ]
  }
 ],
 "metadata": {
  "kernelspec": {
   "display_name": "Python 3",
   "language": "python",
   "name": "python3"
  },
  "language_info": {
   "codemirror_mode": {
    "name": "ipython",
    "version": 3
   },
   "file_extension": ".py",
   "mimetype": "text/x-python",
   "name": "python",
   "nbconvert_exporter": "python",
   "pygments_lexer": "ipython3",
   "version": "3.7.6"
  }
 },
 "nbformat": 4,
 "nbformat_minor": 4
}
