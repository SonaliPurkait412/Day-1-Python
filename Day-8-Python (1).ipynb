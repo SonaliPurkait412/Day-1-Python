{
 "cells": [
  {
   "cell_type": "code",
   "execution_count": null,
   "metadata": {},
   "outputs": [],
   "source": [
    "# Q1. List down all the error types and check all the errors using a python program for all errors\n",
    "\n",
    "## Types of errors with examples are:\n",
    "### Type Error\n",
    "\n",
    "try:\n",
    "    a=5\n",
    "    b='0'\n",
    "    print (a+b)\n",
    "except TypeError:\n",
    "    print('Unsupported operation')\n",
    "print (\"Out of try except blocks\")\n",
    "\n",
    "### Zero Division Error\n",
    "\n",
    "try:\n",
    "    a=5\n",
    "    b=0\n",
    "    print (a/b)\n",
    "except TypeError:\n",
    "    print('Unsupported operation')\n",
    "except ZeroDivisionError:\n",
    "    print ('Division by zero not allowed')\n",
    "print ('Out of try except blocks')\n",
    "\n",
    "### Value Error\n",
    "\n",
    "try:\n",
    "    x=int(input('Enter a number upto 100: '))\n",
    "    if x > 100:\n",
    "        raise ValueError(x)\n",
    "except ValueError:\n",
    "    print(x, \"is out of allowed range\")\n",
    "print(x, \"is within the allowed range\")\n",
    "\n",
    "### Name Error\n",
    "\n",
    "try:\n",
    "      print(player)\n",
    "except NameError:\n",
    "      print(\"player not defined\")\n",
    "except:\n",
    "      print(\"End of program\")\n"
   ]
  },
  {
   "cell_type": "code",
   "execution_count": null,
   "metadata": {},
   "outputs": [],
   "source": [
    "# Q2. Design a simple calculator app with try and except for all use cases\n",
    "\n",
    "operator_set = set([\"+\", \"add\", \"addition\",\"-\", \"subtract\", \"subtraction\",\"/\", \"divide\", \"division\",\"x\", \"*\", \"multiply\", \"multiplication\"])\n",
    "\n",
    "def User_input():\n",
    "    while True:\n",
    "        try:\n",
    "            num1 = int(input(\"Enter first number: \"))\n",
    "            num2 = int(input(\"Enter second number: \"))\n",
    "            calculation = input(\"How would you like t calulate this?\\n\").lower()\n",
    "\n",
    "        except Exception as e:\n",
    "            print(\"Error : {}\".format(str(e)))\n",
    "\n",
    "        else:\n",
    "            if calculation in operator_set:\n",
    "                break;\n",
    "            else:\n",
    "                print(\"Please re-enter a valid operator!\")\n",
    "\n",
    "    return num1, num2, calculation"
   ]
  },
  {
   "cell_type": "code",
   "execution_count": null,
   "metadata": {},
   "outputs": [],
   "source": [
    "# Q3. Print one message if the try block raises a NameError and another for other errors\n",
    "\n",
    "try:\n",
    "    print(x)\n",
    "except NameError:\n",
    "    print(\"Variable x is not defined\")\n",
    "except:\n",
    "    print(\"Something else went wrong\")"
   ]
  },
  {
   "cell_type": "code",
   "execution_count": null,
   "metadata": {},
   "outputs": [],
   "source": [
    "# Q4. When try-except scenario is not required?\n",
    "\n",
    "print('We dont require try-except block is not required when we are sure that the code will not generate any errors at the time of execution by the compiler.')'"
   ]
  },
  {
   "cell_type": "code",
   "execution_count": null,
   "metadata": {},
   "outputs": [],
   "source": [
    "# Q5. Try getting an input inside the try catch block\n",
    "\n",
    "try:\n",
    "    age=int(input('Enter your age: '))\n",
    "except:\n",
    "    if age<18\n",
    "    print ('You are not eligible for voting.Hence invalid input')"
   ]
  }
 ],
 "metadata": {
  "kernelspec": {
   "display_name": "Python 3",
   "language": "python",
   "name": "python3"
  },
  "language_info": {
   "codemirror_mode": {
    "name": "ipython",
    "version": 3
   },
   "file_extension": ".py",
   "mimetype": "text/x-python",
   "name": "python",
   "nbconvert_exporter": "python",
   "pygments_lexer": "ipython3",
   "version": "3.7.6"
  }
 },
 "nbformat": 4,
 "nbformat_minor": 4
}
