{
 "cells": [
  {
   "cell_type": "code",
   "execution_count": null,
   "metadata": {},
   "outputs": [],
   "source": [
    "# Q1. Write a program to create a list of n integer values and do the following\n",
    "## ● Add an item in to the list (using function)\n",
    "## ● Delete (using function)\n",
    "## ● Store the largest number from the list to a variable\n",
    "## ● Store the Smallest number from the list to a variable\n",
    "\n",
    "\n",
    "val = input(\"Enter a list elements separated by space \")\n",
    "l = val.split()\n",
    "print(\"List: \", l)\n",
    "x=input(\"Do you want to add element(y|n): \")\n",
    "if x=='y':\n",
    "    p=int(input(\"Enter the number of elements you want to insert: \"))\n",
    "    for i in range(p):\n",
    "        n=int(input(\"Enter the index: \"))\n",
    "        ele=int(input(\"Enter the element: \"))\n",
    "        l.insert(n,ele)\n",
    "print(\"List: \",l)\n",
    "\n",
    "z=input(\"Do you want to delete any element(y|n): \")\n",
    "if z=='y':\n",
    "    p1=int(input(\"Enter the number of elements you want to delete: \"))\n",
    "    for i in range(p1):\n",
    "        ele1=int(input(\"Enter the element you want to delete: \"))\n",
    "        if ele1 in l:\n",
    "            l.remove(ele1)\n",
    "print(\"List: \",l)\n",
    "\n",
    "l1=sorted(l)\n",
    "lar=l1[-1]\n",
    "print(\"The largest element: \",lar)\n",
    "\n",
    "sma=l1[0]\n",
    "print(\"The smallest element: \",sma)"
   ]
  },
  {
   "cell_type": "code",
   "execution_count": null,
   "metadata": {},
   "outputs": [],
   "source": [
    "# Q2. Create a tuple and print the reverse of the created tuple\n",
    "\n",
    "values = input(\"Input the values : \")\n",
    "tup = tuple(values)\n",
    "print('Tuple : ',tup)\n",
    "\n",
    "rev=reversed(values)\n",
    "print(\"The reversed tuple is: \",tuple(rev))"
   ]
  },
  {
   "cell_type": "code",
   "execution_count": null,
   "metadata": {},
   "outputs": [],
   "source": [
    "# Q3. Create a tuple and convert tuple into list\n",
    "\n",
    "val = input(\"Provide a sequence of numbers separated by commas: \")\n",
    " \n",
    "l = val.split(\",\")\n",
    "t = tuple(l)\n",
    "print(\"Tuple: \",t)\n",
    "\n",
    "l1=list(t)\n",
    "print(\"List: \",l1)"
   ]
  }
 ],
 "metadata": {
  "kernelspec": {
   "display_name": "Python 3",
   "language": "python",
   "name": "python3"
  },
  "language_info": {
   "codemirror_mode": {
    "name": "ipython",
    "version": 3
   },
   "file_extension": ".py",
   "mimetype": "text/x-python",
   "name": "python",
   "nbconvert_exporter": "python",
   "pygments_lexer": "ipython3",
   "version": "3.7.6"
  }
 },
 "nbformat": 4,
 "nbformat_minor": 4
}
