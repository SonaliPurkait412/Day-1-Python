{
 "cells": [
  {
   "cell_type": "code",
   "execution_count": 11,
   "metadata": {},
   "outputs": [
    {
     "name": "stdout",
     "output_type": "stream",
     "text": [
      "Enter the value: 110\n",
      "Value of a= 110 \n",
      "Value of b= 110 \n",
      "Value of c= 110\n",
      "Divide:  11.0\n",
      "Multiply:  5500\n",
      "Add:  170\n"
     ]
    }
   ],
   "source": [
    "# Q1. Create three variables (a,b,c) to same value of any integer and do the following\n",
    "## a)Divide a by 10\n",
    "## b)Multiply b by 50\n",
    "## c)Add c value by 60\n",
    "\n",
    "x=int(input(\"Enter the value: \"))\n",
    "a=b=c=x\n",
    "print(\"Value of a=\",a,\"\\nValue of b=\",b,\"\\nValue of c=\",c)\n",
    "print(\"Divide: \",a/10)\n",
    "print(\"Multiply: \",b*50)\n",
    "print(\"Add: \",c+60)"
   ]
  },
  {
   "cell_type": "code",
   "execution_count": 5,
   "metadata": {},
   "outputs": [
    {
     "name": "stdout",
     "output_type": "stream",
     "text": [
      "Enter a string with 5 characters: Qwert\n",
      "Enter the index where you want to change the character: 3\n",
      "QweGt\n"
     ]
    }
   ],
   "source": [
    "# Q2. Create a String variable of 5 characters  and replace the 3rd character with G\n",
    "\n",
    "s=input(\"Enter a string with 5 characters: \")\n",
    "s_list=list(s)\n",
    "i=int(input(\"Enter the index where you want to change the character: \"))\n",
    "s_list[i]=\"G\"\n",
    "s1=\"\".join(s_list)\n",
    "print(s1)"
   ]
  },
  {
   "cell_type": "code",
   "execution_count": 10,
   "metadata": {},
   "outputs": [
    {
     "name": "stdout",
     "output_type": "stream",
     "text": [
      "Enter an integer value: 20\n",
      "Enter a decimal value: 10.6\n",
      "Converting the integer value a= 20  to decimal value:  20.0\n",
      "Converting the floating value b= 10.6  to integer value:  10\n"
     ]
    }
   ],
   "source": [
    "# Q3. Create two values (a,b) of int,float data type & convert the vise versa. \n",
    "\n",
    "a=int(input(\"Enter an integer value: \"))\n",
    "b=float(input(\"Enter a decimal value: \"))\n",
    "print(\"Converting the integer value a=\",a,\" to decimal value: \", float(a))\n",
    "print(\"Converting the floating value b=\",b,\" to integer value: \", int(b))"
   ]
  }
 ],
 "metadata": {
  "kernelspec": {
   "display_name": "Python 3",
   "language": "python",
   "name": "python3"
  },
  "language_info": {
   "codemirror_mode": {
    "name": "ipython",
    "version": 3
   },
   "file_extension": ".py",
   "mimetype": "text/x-python",
   "name": "python",
   "nbconvert_exporter": "python",
   "pygments_lexer": "ipython3",
   "version": "3.7.6"
  }
 },
 "nbformat": 4,
 "nbformat_minor": 4
}
