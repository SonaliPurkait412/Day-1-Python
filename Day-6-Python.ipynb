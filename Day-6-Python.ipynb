{
 "cells": [
  {
   "cell_type": "code",
   "execution_count": 33,
   "metadata": {},
   "outputs": [
    {
     "name": "stdout",
     "output_type": "stream",
     "text": [
      "Enter number of elements : 5\n",
      "1\n",
      "2\n",
      "3\n",
      "4\n",
      "5\n",
      "[1, 2, 3, 4, 5]\n",
      "3\n",
      "4\n",
      "5\n",
      "6\n",
      "7\n",
      "[3, 4, 5, 6, 7]\n"
     ]
    }
   ],
   "source": [
    "# Q1.Write a program to loop through a list of numbers and add +2 to every value to elements in list\n",
    "\n",
    "lst = []  \n",
    "n = int(input(\"Enter number of elements : \"))  \n",
    "for i in range(0, n): \n",
    "    ele = int(input()) \n",
    "    lst.append(ele)      \n",
    "print(lst)\n",
    "l=[]\n",
    "for i in lst:\n",
    "    i=i+2\n",
    "    print(i)\n",
    "    l.append(i)\n",
    "print(l)"
   ]
  },
  {
   "cell_type": "code",
   "execution_count": 7,
   "metadata": {},
   "outputs": [
    {
     "name": "stdout",
     "output_type": "stream",
     "text": [
      "Enter the number of rows: 5\n",
      "5 4 3 2 1 \n",
      "4 3 2 1 \n",
      "3 2 1 \n",
      "2 1 \n",
      "1 \n",
      "\n"
     ]
    }
   ],
   "source": [
    "# Q2. Write a program to get the below pattern\n",
    "##  54321\n",
    "##  4321\n",
    "##  321\n",
    "##  21\n",
    "##  1\n",
    "\n",
    "n = int(input(\"Enter the number of rows: \"))\n",
    "for i in range(0, n + 1):\n",
    "    for j in range(n - i, 0, -1):\n",
    "        print(j, end=' ')\n",
    "    print()"
   ]
  },
  {
   "cell_type": "code",
   "execution_count": 8,
   "metadata": {},
   "outputs": [
    {
     "name": "stdout",
     "output_type": "stream",
     "text": [
      "Enter the number of terms: 10\n",
      "Fibonacci sequence:\n",
      "0\n",
      "1\n",
      "1\n",
      "2\n",
      "3\n",
      "5\n",
      "8\n",
      "13\n",
      "21\n",
      "34\n"
     ]
    }
   ],
   "source": [
    "# Q3. Python Program to Print the Fibonacci sequence\n",
    "\n",
    "nterms = int(input(\"Enter the number of terms: \"))\n",
    "n1, n2 = 0, 1\n",
    "count = 0\n",
    "if nterms <= 0:\n",
    "   print(\"Invalid input\")\n",
    "elif nterms == 1:\n",
    "   print(\"Fibonacci sequence upto\",nterms,\":\")\n",
    "   print(n1)\n",
    "else:\n",
    "   print(\"Fibonacci sequence:\")\n",
    "   while count < nterms:\n",
    "       print(n1)\n",
    "       nth = n1 + n2\n",
    "       # update values\n",
    "       n1 = n2\n",
    "       n2 = nth\n",
    "       count += 1"
   ]
  },
  {
   "cell_type": "code",
   "execution_count": 10,
   "metadata": {},
   "outputs": [
    {
     "name": "stdout",
     "output_type": "stream",
     "text": [
      "Enter the number: 639\n",
      "639 is not an Armstrong number\n"
     ]
    }
   ],
   "source": [
    "# Q4. Explain Armstrong number and write a code with a function\n",
    "\n",
    "def armstrong(num):\n",
    "    order = len(str(num))\n",
    "    sum1 = 0\n",
    "    temp = num\n",
    "    while temp > 0:\n",
    "        digit = temp % 10\n",
    "        sum1 += digit ** order\n",
    "        temp //= 10\n",
    "    if num == sum1:\n",
    "        print(num,\"is an Armstrong number\")\n",
    "    else:\n",
    "        print(num,\"is not an Armstrong number\")\n",
    "        \n",
    "if __name__ == \"__main__\":\n",
    "    x=int(input(\"Enter the number: \"))\n",
    "    armstrong(x)"
   ]
  },
  {
   "cell_type": "code",
   "execution_count": 12,
   "metadata": {},
   "outputs": [
    {
     "name": "stdout",
     "output_type": "stream",
     "text": [
      "Enter the number for which you want the multiplication table:  9\n",
      "Enter the range: 10\n",
      "9 x 1 = 9\n",
      "9 x 2 = 18\n",
      "9 x 3 = 27\n",
      "9 x 4 = 36\n",
      "9 x 5 = 45\n",
      "9 x 6 = 54\n",
      "9 x 7 = 63\n",
      "9 x 8 = 72\n",
      "9 x 9 = 81\n",
      "9 x 10 = 90\n"
     ]
    }
   ],
   "source": [
    "# Q5. Write a program to print the multiplication table of 9\n",
    "\n",
    "num = int(input(\"Enter the number for which you want the multiplication table:  \"))  \n",
    "n=int(input(\"Enter the range: \"))\n",
    "for i in range(1,n+1):  \n",
    "    print(num,'x',i,'=',num*i)"
   ]
  },
  {
   "cell_type": "code",
   "execution_count": 13,
   "metadata": {},
   "outputs": [
    {
     "name": "stdout",
     "output_type": "stream",
     "text": [
      "Enter a number: -10\n",
      "-10  is negative\n"
     ]
    }
   ],
   "source": [
    "# Q6. Check if a program is negative or positive\n",
    " \n",
    "\n",
    "n=int(input(\"Enter a number: \"))\n",
    "if n>=0:\n",
    "    print(n,\" is positive\")\n",
    "else:\n",
    "    print(n,\" is negative\")"
   ]
  },
  {
   "cell_type": "code",
   "execution_count": 21,
   "metadata": {},
   "outputs": [
    {
     "name": "stdout",
     "output_type": "stream",
     "text": [
      "Enter the number of days: 6930\n",
      "The age of the person is  18 years and  15  months\n"
     ]
    }
   ],
   "source": [
    "# Q7. Write a program to convert the number of days to ages\n",
    "\n",
    "def find( num ): \n",
    "    year = int(num / 365)  \n",
    "    month = int(num/30)-(year*12)\n",
    "    print(\"The age of the person is \",year,\"years and \",month,\" months\")\n",
    "\n",
    "n=int(input(\"Enter the number of days: \"))\n",
    "find(n)"
   ]
  },
  {
   "cell_type": "code",
   "execution_count": 24,
   "metadata": {},
   "outputs": [
    {
     "name": "stdout",
     "output_type": "stream",
     "text": [
      "0.8660254037844386\n",
      "1.7320508075688767\n",
      "0.8660254037844387\n",
      "\n",
      "\n",
      "Enter the degrees: 45\n",
      "sin( 0.7853981633974483 ):  0.7071067811865476\n",
      "cos( 0.7853981633974483 ):  0.7071067811865476\n",
      "tan( 0.7853981633974483 ):  0.9999999999999999\n"
     ]
    }
   ],
   "source": [
    "# Q8. Solve Trigonometry problem using math function write a program to solve using math function\n",
    "\n",
    "import math\n",
    "\n",
    "print(math.sin(math.pi/3)) \n",
    "print(math.tan(math.pi/3))\n",
    "print(math.cos(math.pi/6))\n",
    "print(\"\\n\")\n",
    "x=int(input(\"Enter the degrees: \"))\n",
    "y=math.radians(x)\n",
    "print(\"sin(\",y,\"): \",math.sin(y))\n",
    "print(\"cos(\",y,\"): \",math.cos(y))\n",
    "print(\"tan(\",y,\"): \",math.tan(y))"
   ]
  },
  {
   "cell_type": "code",
   "execution_count": 31,
   "metadata": {},
   "outputs": [
    {
     "name": "stdout",
     "output_type": "stream",
     "text": [
      "Enter first number: 12\n",
      "Enter second number: 25\n",
      "Enter your choice:\n",
      "1.Add\n",
      "2.Subtract\n",
      "3.Divide\n",
      "4.Multiply\n",
      "1\n",
      "Addition:  37\n",
      "Do you want to continue(y|n): y\n",
      "Enter first number: 12\n",
      "Enter second number: 25\n",
      "Enter your choice:\n",
      "1.Add\n",
      "2.Subtract\n",
      "3.Divide\n",
      "4.Multiply\n",
      "2\n",
      "Subtraction:  13\n",
      "Do you want to continue(y|n): n\n"
     ]
    }
   ],
   "source": [
    "# Q9. Create a calculator only on a code level by using if condition (Basic arithmetic calculation)\n",
    "\n",
    "\n",
    "def calculator(x,y):\n",
    "    c=int(input(\"Enter your choice:\\n1.Add\\n2.Subtract\\n3.Divide\\n4.Multiply\\n\"))\n",
    "    if c==1:\n",
    "        print(\"Addition: \",(x+y))\n",
    "    elif c==2:\n",
    "        if x>y:\n",
    "            print(\"Subtraction: \",(x-y))\n",
    "        else:\n",
    "            print(\"Subtraction: \",(y-x))\n",
    "    elif c==3:\n",
    "        print(\"Division: \",(x/y))\n",
    "    elif c==4:\n",
    "        print(\"Multiplication: \",(x*y))\n",
    "    else:\n",
    "        print(\"Invalid Choice\")\n",
    "        \n",
    "while True:\n",
    "    x=int(input(\"Enter first number: \"))\n",
    "    y=int(input(\"Enter second number: \"))\n",
    "    calculator(x,y)\n",
    "    l=input(\"Do you want to continue(y|n): \")\n",
    "    if l=='n':\n",
    "        break"
   ]
  }
 ],
 "metadata": {
  "kernelspec": {
   "display_name": "Python 3",
   "language": "python",
   "name": "python3"
  },
  "language_info": {
   "codemirror_mode": {
    "name": "ipython",
    "version": 3
   },
   "file_extension": ".py",
   "mimetype": "text/x-python",
   "name": "python",
   "nbconvert_exporter": "python",
   "pygments_lexer": "ipython3",
   "version": "3.7.6"
  }
 },
 "nbformat": 4,
 "nbformat_minor": 4
}
