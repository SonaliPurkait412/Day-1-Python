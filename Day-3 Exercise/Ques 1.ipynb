{
 "cells": [
  {
   "cell_type": "code",
   "execution_count": 4,
   "metadata": {},
   "outputs": [
    {
     "name": "stdout",
     "output_type": "stream",
     "text": [
      "Enter the number of values for first dictionary:2\n",
      "Enter the key: a\n",
      "Enter the value: Apple\n",
      "Enter the key: b\n",
      "Enter the value: Banana\n",
      "{'a': 'Apple', 'b': 'Banana'}\n",
      "Enter the number of values for second dictionary:3\n",
      "Enter the key: x\n",
      "Enter the value: Left\n",
      "Enter the key: y\n",
      "Enter the value: Right\n",
      "Enter the key: z\n",
      "Enter the value: Middle\n",
      "{'x': 'Left', 'y': 'Right', 'z': 'Middle'}\n",
      "Merged Dictionary:  {'a': 'Apple', 'b': 'Banana', 'x': 'Left', 'y': 'Right', 'z': 'Middle'}\n"
     ]
    }
   ],
   "source": [
    "# Q1. Write a Python script to merge two Python dictionaries\n",
    "\n",
    "n = int(input(\"Enter the number of values for first dictionary:\"))\n",
    "d = {}\n",
    "d1 = {}\n",
    "\n",
    "for i in range(n):\n",
    "    keys = input(\"Enter the key: \") \n",
    "    values = input(\"Enter the value: \") \n",
    "    d[keys] = values\n",
    "print(d)\n",
    "\n",
    "n1 = int(input(\"Enter the number of values for second dictionary:\"))\n",
    "for j in range(n1):\n",
    "    keys1 = input(\"Enter the key: \") \n",
    "    values1 = input(\"Enter the value: \") \n",
    "    d1[keys1] = values1\n",
    "print(d1)\n",
    "\n",
    "d2 = d.copy()\n",
    "d2.update(d1)\n",
    "print(\"\\nMerged Dictionary: \",d2)"
   ]
  },
  {
   "cell_type": "code",
   "execution_count": null,
   "metadata": {},
   "outputs": [],
   "source": []
  }
 ],
 "metadata": {
  "kernelspec": {
   "display_name": "Python 3",
   "language": "python",
   "name": "python3"
  },
  "language_info": {
   "codemirror_mode": {
    "name": "ipython",
    "version": 3
   },
   "file_extension": ".py",
   "mimetype": "text/x-python",
   "name": "python",
   "nbconvert_exporter": "python",
   "pygments_lexer": "ipython3",
   "version": "3.7.6"
  }
 },
 "nbformat": 4,
 "nbformat_minor": 4
}
