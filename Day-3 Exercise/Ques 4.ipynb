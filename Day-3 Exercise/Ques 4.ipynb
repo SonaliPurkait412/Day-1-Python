{
 "cells": [
  {
   "cell_type": "code",
   "execution_count": 6,
   "metadata": {},
   "outputs": [
    {
     "name": "stdout",
     "output_type": "stream",
     "text": [
      "Enter the number of elements: 3\n",
      "Enter element 1:1\n",
      "Enter element 2:2\n",
      "Enter element 3:3\n",
      "{1, 2, 3}\n",
      "Length of set:  3\n"
     ]
    }
   ],
   "source": [
    "# Q4. Write a Python program to find the length of a set\n",
    "n=int(input(\"Enter the number of elements: \"))\n",
    "key=[]\n",
    "for x in range(0,n): \n",
    "    element=int(input(\"Enter element \" + str(x+1) + \":\")) \n",
    "    key.append(element)\n",
    "x=set(key)\n",
    "print(x)\n",
    "print(\"Length of set: \",len(x))"
   ]
  }
 ],
 "metadata": {
  "kernelspec": {
   "display_name": "Python 3",
   "language": "python",
   "name": "python3"
  },
  "language_info": {
   "codemirror_mode": {
    "name": "ipython",
    "version": 3
   },
   "file_extension": ".py",
   "mimetype": "text/x-python",
   "name": "python",
   "nbconvert_exporter": "python",
   "pygments_lexer": "ipython3",
   "version": "3.7.6"
  }
 },
 "nbformat": 4,
 "nbformat_minor": 4
}
