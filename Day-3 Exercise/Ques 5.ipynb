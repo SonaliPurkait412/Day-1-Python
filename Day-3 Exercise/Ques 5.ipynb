{
 "cells": [
  {
   "cell_type": "code",
   "execution_count": 9,
   "metadata": {},
   "outputs": [
    {
     "name": "stdout",
     "output_type": "stream",
     "text": [
      "Enter the number of elements for Set 1: 5\n",
      "Enter element 1:1\n",
      "Enter element 2:2\n",
      "Enter element 3:3\n",
      "Enter element 4:4\n",
      "Enter element 5:5\n",
      "Enter the number of elements for Set 2: 7\n",
      "Enter element 1:1\n",
      "Enter element 2:2\n",
      "Enter element 3:3\n",
      "Enter element 4:4\n",
      "Enter element 5:5\n",
      "Enter element 6:6\n",
      "Enter element 7:7\n",
      "{1, 2, 3, 4, 5}\n",
      "{1, 2, 3, 4, 5, 6, 7}\n",
      "Remove the duplicate elements:  {6, 7}\n"
     ]
    }
   ],
   "source": [
    "# Q5. Write a Python program to remove the intersection of a 2nd set from the 1st set\n",
    "\n",
    "n=int(input(\"Enter the number of elements for Set 1: \"))\n",
    "Set1=[]\n",
    "Set2=[]\n",
    "for i in range(0,n): \n",
    "    element=int(input(\"Enter element \" + str(i+1) + \":\")) \n",
    "    Set1.append(element)\n",
    "x=set(Set1)\n",
    "\n",
    "n1=int(input(\"Enter the number of elements for Set 2: \"))\n",
    "for j in range(0,n1): \n",
    "    element=int(input(\"Enter element \" + str(j+1) + \":\")) \n",
    "    Set2.append(element)\n",
    "y=set(Set2)\n",
    "\n",
    "print(x)\n",
    "print(y)\n",
    "\n",
    "if len(x)>len(y):\n",
    "    print(\"Remove the duplicate elements: \",x-y)\n",
    "else:\n",
    "    print(\"Remove the duplicate elements: \",y-x)"
   ]
  },
  {
   "cell_type": "code",
   "execution_count": 8,
   "metadata": {},
   "outputs": [
    {
     "name": "stdout",
     "output_type": "stream",
     "text": [
      "Enter the number of elements for Set 1: 3\n",
      "Enter element 1:1\n",
      "Enter element 2:2\n",
      "Enter element 3:3\n",
      "Enter the number of elements for Set 2: 3\n",
      "Enter element 1:1\n",
      "Enter element 2:2\n",
      "Enter element 3:3\n",
      "{1, 2, 3}\n",
      "{1, 2, 3}\n",
      "Remove the duplicate elements:  None\n"
     ]
    }
   ],
   "source": [
    "n=int(input(\"Enter the number of elements for Set 1: \"))\n",
    "Set1=[]\n",
    "Set2=[]\n",
    "for i in range(0,n): \n",
    "    element=int(input(\"Enter element \" + str(i+1) + \":\")) \n",
    "    Set1.append(element)\n",
    "x=set(Set1)\n",
    "\n",
    "n1=int(input(\"Enter the number of elements for Set 2: \"))\n",
    "for j in range(0,n1): \n",
    "    element=int(input(\"Enter element \" + str(j+1) + \":\")) \n",
    "    Set2.append(element)\n",
    "y=set(Set2)\n",
    "\n",
    "print(x)\n",
    "print(y)\n",
    "\n",
    "if len(x)>len(y):\n",
    "    print(\"Remove the duplicate elements: \",x.difference_update(y))\n",
    "else:\n",
    "    print(\"Remove the duplicate elements: \",y.difference_update(x))"
   ]
  }
 ],
 "metadata": {
  "kernelspec": {
   "display_name": "Python 3",
   "language": "python",
   "name": "python3"
  },
  "language_info": {
   "codemirror_mode": {
    "name": "ipython",
    "version": 3
   },
   "file_extension": ".py",
   "mimetype": "text/x-python",
   "name": "python",
   "nbconvert_exporter": "python",
   "pygments_lexer": "ipython3",
   "version": "3.7.6"
  }
 },
 "nbformat": 4,
 "nbformat_minor": 4
}
