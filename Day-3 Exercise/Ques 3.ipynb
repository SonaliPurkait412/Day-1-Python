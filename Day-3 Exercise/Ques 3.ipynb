{
 "cells": [
  {
   "cell_type": "code",
   "execution_count": 1,
   "metadata": {},
   "outputs": [
    {
     "name": "stdout",
     "output_type": "stream",
     "text": [
      "Enter number of elements for dictionary:7\n",
      "For keys:\n",
      "Enter element 1:1\n",
      "Enter element 2:2\n",
      "Enter element 3:3\n",
      "Enter element 4:4\n",
      "Enter element 5:5\n",
      "Enter element 6:6\n",
      "Enter element 7:7\n",
      "For values:\n",
      "Enter element 1:a\n",
      "Enter element 2:b\n",
      "Enter element 3:c\n",
      "Enter element 4:d\n",
      "Enter element 5:e\n",
      "Enter element 6:f\n",
      "Enter element 7:g\n",
      "[1, 2, 3, 4, 5, 6, 7]\n",
      "['a', 'b', 'c', 'd', 'e', 'f', 'g']\n",
      "The dictionary is:\n",
      "{1: 'a', 2: 'b', 3: 'c', 4: 'd', 5: 'e', 6: 'f', 7: 'g'}\n"
     ]
    }
   ],
   "source": [
    "# Q3. Write a Python program to map two lists into a dictionary\n",
    "key=[] \n",
    "value=[] \n",
    "n=int(input(\"Enter number of elements for dictionary:\")) \n",
    "print(\"For keys:\") \n",
    "for x in range(0,n): \n",
    "    element=int(input(\"Enter element \" + str(x+1) + \":\")) \n",
    "    key.append(element) \n",
    "print(\"For values:\") \n",
    "for x in range(0,n): \n",
    "    element=input(\"Enter element \" + str(x+1) + \":\") \n",
    "    value.append(element)\n",
    "\n",
    "print(key) \n",
    "print(value) \n",
    "d=dict(zip(key,value)) \n",
    "print(\"The dictionary is:\") \n",
    "print(d)"
   ]
  }
 ],
 "metadata": {
  "kernelspec": {
   "display_name": "Python 3",
   "language": "python",
   "name": "python3"
  },
  "language_info": {
   "codemirror_mode": {
    "name": "ipython",
    "version": 3
   },
   "file_extension": ".py",
   "mimetype": "text/x-python",
   "name": "python",
   "nbconvert_exporter": "python",
   "pygments_lexer": "ipython3",
   "version": "3.7.6"
  }
 },
 "nbformat": 4,
 "nbformat_minor": 4
}
