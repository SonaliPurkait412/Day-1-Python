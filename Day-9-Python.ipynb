{
 "cells": [
  {
   "cell_type": "code",
   "execution_count": null,
   "metadata": {},
   "outputs": [],
   "source": [
    "# Q1. Create a lambda function that multiplies argument x with argument y\n",
    "\n",
    "def func_compute(y):\n",
    "    return lambda x : x * y\n",
    "\n",
    "a=int(input(\"Enter first number: \"))\n",
    "b=int(input(\"Enter second number: \"))\n",
    "result = func_compute(a)\n",
    "print(\"Multiplication of the number \",a,\"with\",b,\" =\", result(b))"
   ]
  },
  {
   "cell_type": "code",
   "execution_count": null,
   "metadata": {},
   "outputs": [],
   "source": [
    "# Q2. Write a Python program to create Fibonacci series to n using Lambda\n",
    "\n",
    "from functools import reduce\n",
    "fib_series = lambda n: reduce(lambda x, _: x+[x[-1]+x[-2]],range(n-2), [0, 1])\n",
    "x=int(input(\"Enter the range: \"))\n",
    "print(\"Fibonacci series upto\",x,\":\")\n",
    "print(fib_series(x))"
   ]
  },
  {
   "cell_type": "code",
   "execution_count": null,
   "metadata": {},
   "outputs": [],
   "source": [
    "# Q3. Write a Python program that multiply each number of given list with a given number \n",
    "\n",
    "nums = [] \n",
    "n = int(input(\"Enter number of elements : \")) \n",
    "for i in range(0, n): \n",
    "    ele = int(input()) \n",
    "    nums.append(ele) \n",
    "print(nums) \n",
    "n = int(input(\"Enter the number you want to multiply: \")) \n",
    "print(\"Original list: \", nums) \n",
    "print(\"Given number: \", n) \n",
    "filtered_numbers=list(map(lambda number:number*n,nums)) \n",
    "print(\"Result:\") \n",
    "print(' '.join(map(str,filtered_numbers)))"
   ]
  },
  {
   "cell_type": "code",
   "execution_count": null,
   "metadata": {},
   "outputs": [],
   "source": [
    "# Q4. Write a Python program to find numbers divisible by 9 from a list of numbers \n",
    "\n",
    "nums = [] \n",
    "n = int(input(\"Enter number of elements : \")) \n",
    "for i in range(0, n): \n",
    "    ele = int(input()) \n",
    "    nums.append(ele) \n",
    "print(nums) \n",
    "result = list(filter(lambda x: (x % 9 == 0), nums))\n",
    "print(\"Numbers divisible by 9 are\",result)"
   ]
  },
  {
   "cell_type": "code",
   "execution_count": null,
   "metadata": {},
   "outputs": [],
   "source": [
    "# Q5. Write a Python program to count the even numbers in a given list of integers \n",
    "\n",
    "array_nums = []\n",
    "n = int(input(\"Enter number of elements : \")) \n",
    "for i in range(0, n): \n",
    "    ele = int(input()) \n",
    "    array_nums.append(ele) \n",
    "print(\"Original arrays:\")\n",
    "print(array_nums)\n",
    "even = len(list(filter(lambda x: (x%2 == 0) , array_nums)))\n",
    "print(\"\\nNumber of even numbers in the above array: \", even)"
   ]
  }
 ],
 "metadata": {
  "kernelspec": {
   "display_name": "Python 3",
   "language": "python",
   "name": "python3"
  },
  "language_info": {
   "codemirror_mode": {
    "name": "ipython",
    "version": 3
   },
   "file_extension": ".py",
   "mimetype": "text/x-python",
   "name": "python",
   "nbconvert_exporter": "python",
   "pygments_lexer": "ipython3",
   "version": "3.7.6"
  }
 },
 "nbformat": 4,
 "nbformat_minor": 4
}
