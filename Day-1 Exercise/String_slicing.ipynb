{
 "cells": [
  {
   "cell_type": "code",
   "execution_count": 1,
   "metadata": {},
   "outputs": [
    {
     "name": "stdout",
     "output_type": "stream",
     "text": [
      "Enter the string: Qwerty\n",
      "Enter the starting index of the slice you will create: 2\n",
      "Enter the ending index of the slice you will create:  5\n",
      "erty\n"
     ]
    }
   ],
   "source": [
    "#Without using inbuilt function\n",
    "output=input(\"Enter the string: \")\n",
    "start = int(input(\"Enter the starting index of the slice you will create: \"))\n",
    "end = int(input(\"Enter the ending index of the slice you will create:  \"))\n",
    "def slice(lst, start, end):\n",
    "    output = \"\"\n",
    "    if not(0 <= start < len(lst)):\n",
    "        return output\n",
    "    elif not(start <= end < len(lst)):\n",
    "        return output\n",
    "    else:\n",
    "        for i in range(start, end+1):\n",
    "            output=output+lst[i]\n",
    "        return output\n",
    "\n",
    "print(slice(output, start, end))"
   ]
  }
 ],
 "metadata": {
  "kernelspec": {
   "display_name": "Python 3",
   "language": "python",
   "name": "python3"
  },
  "language_info": {
   "codemirror_mode": {
    "name": "ipython",
    "version": 3
   },
   "file_extension": ".py",
   "mimetype": "text/x-python",
   "name": "python",
   "nbconvert_exporter": "python",
   "pygments_lexer": "ipython3",
   "version": "3.7.6"
  }
 },
 "nbformat": 4,
 "nbformat_minor": 4
}
